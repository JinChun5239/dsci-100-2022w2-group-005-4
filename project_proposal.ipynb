{
 "cells": [
  {
   "cell_type": "markdown",
   "metadata": {},
   "source": [
    "# Classification of Pulsar Stars From the HTRU2 Data Set"
   ]
  },
  {
   "cell_type": "markdown",
   "metadata": {},
   "source": [
    "## Introduction\n",
    "\n",
    "This dataset classifies neutron stars as pulsars or non-pulsars. Pulsars are a type of neutron star that play important roles as probes of space-time, inter-stellar mediums, and a variety of other uses of scientific interest. The data for the stars comes from the HTRU (High Time Resolution Universe) Survey. The pulsars are detected through periodic radio signals that have slight different emission patterns. However, sometimes detections od periodic radio signals are a result of RFI (radio frequency interference) and noise. This , sorts profile attributes into mean of integrated profile (averages emission atters of periodic radio signals over many rotations) , standard deviation of profiles, along others to classify whether the signals were caused by pulsars or non-pulsars.\n",
    "\n",
    "\n",
    "Our project then aims to answer the question: *Can we use measurements from signal profiles to predict whether a future signal (of unknown class) is a result of a pulsar or non-pulsar?*\n",
    "\n",
    "\n",
    "The (tentative) link to our dataset: https://archive.ics.uci.edu/ml/datasets/HTRU2#"
   ]
  },
  {
   "cell_type": "markdown",
   "metadata": {},
   "source": [
    "## Preliminary exploratory data analysis"
   ]
  },
  {
   "cell_type": "code",
   "execution_count": 1,
   "metadata": {},
   "outputs": [],
   "source": [
    "# Read the dataset."
   ]
  },
  {
   "cell_type": "code",
   "execution_count": 2,
   "metadata": {},
   "outputs": [],
   "source": [
    "# Clean and wrangle the data."
   ]
  },
  {
   "cell_type": "code",
   "execution_count": 3,
   "metadata": {},
   "outputs": [],
   "source": [
    "# Summarize the data"
   ]
  },
  {
   "cell_type": "code",
   "execution_count": 4,
   "metadata": {},
   "outputs": [],
   "source": [
    "# Visulization"
   ]
  },
  {
   "cell_type": "markdown",
   "metadata": {},
   "source": [
    "## Methods\n",
    "\n",
    "... standardise, wrangle data,  \n",
    "we plan tu sue the variables\n",
    "mean of integrted profile, Class, uhh\n",
    "\n",
    "(word count so far idk)\n"
   ]
  },
  {
   "cell_type": "markdown",
   "metadata": {},
   "source": [
    "## Expected outcomes and significance"
   ]
  }
 ],
 "metadata": {
  "kernelspec": {
   "display_name": "R",
   "language": "R",
   "name": "ir"
  },
  "language_info": {
   "codemirror_mode": "r",
   "file_extension": ".r",
   "mimetype": "text/x-r-source",
   "name": "R",
   "pygments_lexer": "r",
   "version": "4.1.3"
  }
 },
 "nbformat": 4,
 "nbformat_minor": 4
}
