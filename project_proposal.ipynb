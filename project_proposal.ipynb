{
 "cells": [
  {
   "cell_type": "markdown",
   "id": "d02dac19-833f-409a-bbb8-cf623638b29e",
   "metadata": {},
   "source": [
    "# Project Proposal\n",
    "\n",
    "### Requirements:\n",
    "\n",
    "* 1 page (max 500 words) written proposal \n",
    "* proposal should be done in a Jupyter notebook, and then submitted both as an .html file (File -> Download As -> HTML) and an .ipynb file that is reproducible \n",
    "\n",
    "### Each proposal should include the following sections:\n",
    "\n",
    "* Title\n",
    "* Introduction:\n",
    "(a) Provide some relevant background information on the topic so that someone unfamiliar with it will be prepared to understand the rest of your proposal. \n",
    "(b) Clearly state the question you will try to answer with your project. \n",
    "(c) Identify and describe the dataset that will be used to answer the question.\n",
    "* Preliminary exploratory data analysis:\n",
    "(a) Demonstrate that the dataset can be read from the web into R. \n",
    "(b) Clean and wrangle your data into a tidy format.\n",
    "(c) Using only training data, summarize the data in at least one table (this is exploratory data analysis). (ci) An example of a useful table could be one that reports the number of observations in each class, the means of the predictor variables you plan to use in your analysis and how many rows have missing data. \n",
    "(d) Using only training data, visualize the data with at least one plot relevant to the analysis you plan to do (this is exploratory data analysis). (di) An example of a useful visualization could be one that compares the distributions of each of the predictor variables you plan to use in your analysis.\n",
    "* Methods:\n",
    "(a) Explain how you will conduct either your data analysis and which variables/columns you will use. Note - you do not need to use all variables/columns that exist in the raw data set. In fact, that's often not a good idea. For each variable think: is this a useful variable for prediction?\n",
    "(b) Describe at least one way that you will visualize the results\n",
    "* Expected outcomes and significance:\n",
    "(a) What do you expect to find?\n",
    "(b) What impact could such findings have?\n",
    "(c) What future questions could this lead to?"
   ]
  },
  {
   "cell_type": "markdown",
   "id": "854983e5-6661-4cea-a18c-f89854f3cb4f",
   "metadata": {},
   "source": [
    "Take note of grading criteria at end: https://canvas.ubc.ca/courses/106510/assignments/1419852?module_item_id=5168273"
   ]
  },
  {
   "cell_type": "code",
   "execution_count": null,
   "id": "111641f6-5dbe-48fb-93e2-97c13f46c1a1",
   "metadata": {},
   "outputs": [],
   "source": []
  }
 ],
 "metadata": {
  "kernelspec": {
   "display_name": "R",
   "language": "R",
   "name": "ir"
  },
  "language_info": {
   "codemirror_mode": "r",
   "file_extension": ".r",
   "mimetype": "text/x-r-source",
   "name": "R",
   "pygments_lexer": "r",
   "version": "4.1.3"
  }
 },
 "nbformat": 4,
 "nbformat_minor": 5
}
